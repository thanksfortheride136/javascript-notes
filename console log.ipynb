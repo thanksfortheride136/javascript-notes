{
 "cells": [
  {
   "cell_type": "markdown",
   "id": "fa998b58-9afd-4115-b004-06b187a08a78",
   "metadata": {},
   "source": [
    "# console.log();"
   ]
  },
  {
   "cell_type": "markdown",
   "id": "ec5338e5-11fe-42d5-9f13-d48d89ef08a6",
   "metadata": {},
   "source": [
    "Prints a new line in the console."
   ]
  },
  {
   "cell_type": "markdown",
   "id": "f2f927f8-dac1-4463-92ec-21e9c73fcdae",
   "metadata": {},
   "source": [
    "Syntax: console.log(\"text or object\");\n",
    "\n",
    "Example:"
   ]
  },
  {
   "cell_type": "code",
   "execution_count": 4,
   "id": "d9e2fa0b-76b9-442c-9ad4-d45954e1369e",
   "metadata": {},
   "outputs": [
    {
     "name": "stdout",
     "output_type": "stream",
     "text": [
      "Hello, World!\n"
     ]
    }
   ],
   "source": [
    "console.log(\"Hello, World!\");"
   ]
  },
  {
   "cell_type": "code",
   "execution_count": null,
   "id": "e6d14281-c364-4079-a12f-d25093f084eb",
   "metadata": {},
   "outputs": [],
   "source": []
  }
 ],
 "metadata": {
  "kernelspec": {
   "display_name": "JavaScript (Node.js)",
   "language": "javascript",
   "name": "javascript"
  },
  "language_info": {
   "file_extension": ".js",
   "mimetype": "application/javascript",
   "name": "javascript",
   "version": "20.8.1"
  }
 },
 "nbformat": 4,
 "nbformat_minor": 5
}
