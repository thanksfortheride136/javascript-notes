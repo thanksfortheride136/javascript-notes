{
 "cells": [
  {
   "cell_type": "markdown",
   "id": "88f51855-a14d-483e-8ac2-432d2c15a61e",
   "metadata": {},
   "source": [
    "# Javascript Functions\n",
    "***"
   ]
  },
  {
   "cell_type": "code",
   "execution_count": null,
   "id": "b1acd795-f311-447e-b2b3-55eba0de5a71",
   "metadata": {},
   "outputs": [],
   "source": []
  }
 ],
 "metadata": {
  "kernelspec": {
   "display_name": "JavaScript (Node.js)",
   "language": "javascript",
   "name": "javascript"
  },
  "language_info": {
   "file_extension": ".js",
   "mimetype": "application/javascript",
   "name": "javascript",
   "version": "20.8.1"
  }
 },
 "nbformat": 4,
 "nbformat_minor": 5
}
