{
 "cells": [
  {
   "cell_type": "markdown",
   "id": "ff2f8055-6425-4d39-abb5-7280487a6630",
   "metadata": {},
   "source": [
    "# Loops in Javascript\n",
    "***"
   ]
  },
  {
   "cell_type": "markdown",
   "id": "2f1990fe-afac-4c90-b866-f40443cd636b",
   "metadata": {},
   "source": [
    "Documentation located [here.](https://developer.mozilla.org/en-US/docs/Web/JavaScript/Guide/Loops_and_iteration)"
   ]
  },
  {
   "cell_type": "markdown",
   "id": "0ff0fd5e-f1b9-4c28-a47c-dc58de9a3aab",
   "metadata": {},
   "source": [
    "__The Purpose of Loops__"
   ]
  },
  {
   "cell_type": "markdown",
   "id": "6aa78338-3bed-426b-9f7e-c161dabb7d42",
   "metadata": {},
   "source": [
    "Loops are fundamental constructs in programming used to automate repetitive tasks, thereby making code more efficient and less cluttered. They are particularly useful in various scenarios, such as processing lists or arrays, repeating actions, or handling user inputs. Loops typically utilize an iterator variable, which tracks the state or progress of the loop. This iterator is often integral to the condition that determines when the loop starts and stops. By evaluating this condition, the loop can execute its code block repeatedly until the specified condition is no longer met.\n",
    "\n",
    "Iterator variables can have any name, yet often are represented by the letter `i` or another short letter.\n",
    "\n",
    "Note that in loops we often have a condition to change or modify the condition. \n",
    "\n",
    "Loops, like most logic in programming can be evaluating to `True` or `False`."
   ]
  },
  {
   "cell_type": "markdown",
   "id": "7f6154c5-eee7-4ee3-9ad7-67d12dd4e52c",
   "metadata": {},
   "source": [
    "### Types of Loops\n",
    "***"
   ]
  },
  {
   "cell_type": "markdown",
   "id": "cdc4175d-e251-4b3d-90da-b2d93a703b66",
   "metadata": {},
   "source": [
    "__While Loops__"
   ]
  },
  {
   "cell_type": "markdown",
   "id": "343b1942-c6cb-432e-bb2d-06c7ff036687",
   "metadata": {},
   "source": [
    "A \"While\" Loop is used to repeat a specific block of code an __unknown__ number of times, until a condition is met. For example, if we want to ask a user for a number between 1 and 10, we don't know how many times the user may enter a larger number, so we keep asking \"while the number is not between 1 and 10\". If we (or the computer) knows exactly how many times to execute a section of code (such as shuffling a deck of cards) we use a for loop."
   ]
  },
  {
   "cell_type": "code",
   "execution_count": 1,
   "id": "dc614fcf-8f92-4344-a8cc-58f95da4c2be",
   "metadata": {},
   "outputs": [
    {
     "name": "stdout",
     "output_type": "stream",
     "text": [
      "1 Silly looking dogs\n",
      "2 Silly looking dogs\n",
      "3 Silly looking dogs\n",
      "4 Silly looking dogs\n"
     ]
    },
    {
     "data": {
      "text/plain": [
       "4"
      ]
     },
     "execution_count": 1,
     "metadata": {},
     "output_type": "execute_result"
    }
   ],
   "source": [
    "//This loop just counts from 1 to 4 and prints out the loops iterator variable value concatenated with a phrase.\n",
    "\n",
    "let i = 1\n",
    "\n",
    "while (i < 5){\n",
    "    console.log(i + \" Silly looking dogs\");\n",
    "    i++;\n",
    "}"
   ]
  },
  {
   "cell_type": "markdown",
   "id": "89859495-a8da-423e-90b6-2cf116fb7a26",
   "metadata": {},
   "source": [
    "Note: Please not the `i++` which is incrementing the value of `i`. Without this this `while` loop would be stuck forever, since the condition is not being changed or satisfied."
   ]
  },
  {
   "cell_type": "code",
   "execution_count": 24,
   "id": "ccfd8cfb-cee0-45b6-916a-310543dca791",
   "metadata": {},
   "outputs": [
    {
     "name": "stdout",
     "output_type": "stream",
     "text": [
      "10\n",
      "9\n",
      "8\n",
      "7\n",
      "6\n",
      "5\n",
      "4\n",
      "3\n",
      "2\n",
      "1\n"
     ]
    },
    {
     "data": {
      "text/plain": [
       "1"
      ]
     },
     "execution_count": 24,
     "metadata": {},
     "output_type": "execute_result"
    }
   ],
   "source": [
    "//Counts down from a number. The -- is decrementing the value as opposed to ++ which increments.\n",
    "let count = 10;\n",
    "\n",
    "while(count > 0){\n",
    "    console.log(count);\n",
    "    count--;\n",
    "}"
   ]
  },
  {
   "cell_type": "code",
   "execution_count": 25,
   "id": "92e25156-a97f-4a8f-a629-8454d22909e8",
   "metadata": {},
   "outputs": [
    {
     "name": "stdout",
     "output_type": "stream",
     "text": [
      "Sum is: 55\n"
     ]
    }
   ],
   "source": [
    "//Calculates the sum of a mumber from  1 to 10\n",
    "let sum = 0;\n",
    "let number = 1;\n",
    "while (number <= 10) {\n",
    "    sum += number;  // same as sum = sum + number\n",
    "    number++;\n",
    "}\n",
    "console.log(\"Sum is:\", sum);"
   ]
  },
  {
   "cell_type": "markdown",
   "id": "eadf2ed7-d08e-42b0-bdee-2e16c19ae301",
   "metadata": {},
   "source": [
    "__For Loops__"
   ]
  },
  {
   "cell_type": "markdown",
   "id": "e8fe9d06-e101-4519-aaad-d8374abcceab",
   "metadata": {},
   "source": [
    "A \"For\" Loop is used to repeat a specific block of code a __known__ number of times. For example, if we want to check the grade of every student in the class, we loop from 1 to that number. When the number of times is not known before hand, we use a \"While\" loop."
   ]
  },
  {
   "cell_type": "markdown",
   "id": "c166058d-d485-47f1-88cf-1394db3704c8",
   "metadata": {},
   "source": [
    "The for loop is used to repeat a section of code known number of times. Sometimes it is the computer that knows how many times, not you, but it is still known. Some examples:\n",
    "\n",
    "_Unknown number of times:_\n",
    "\n",
    "\"Ask the User to Guess a pre-determined number between 1 and 100\". You have no way of knowing how many guesses it will take.\n",
    "\n",
    "\"Randomly look in an array for a given value.\" You have no way of knowing how many tries it will take to find the actual value.\n",
    "\n",
    "__Note:__ _this is a made-up example, because you would never randomly look into an array to find a value. You would always start at the front of the array and look one element at a time until you found the item or got to the end of the array._\n",
    "\n",
    "_Known number of times:_\n",
    "\n",
    "Compute the average grade of the class. While you (the programmer) might not know how many grades exist in the class, the computer will know. Usually this is accomplished by using the \"length\" function on an array.\n",
    "\n",
    "Print the odd numbers from 1 to 1001.\n",
    "\n",
    "Search a list (array) of numbers for the biggest grade. Again, the computer \"knows\" how many grades there are, so a for loop is appropriate."
   ]
  },
  {
   "cell_type": "code",
   "execution_count": 31,
   "id": "6e3c44b8-badc-41e8-b22b-28a4702eb7c0",
   "metadata": {},
   "outputs": [
    {
     "name": "stdout",
     "output_type": "stream",
     "text": [
      "1\n",
      "2\n",
      "3\n",
      "4\n",
      "5\n"
     ]
    }
   ],
   "source": [
    "//Prints out `i` 5 times.\n",
    "for(let i = 1; i <= 5; i++){\n",
    "    console.log(i);\n",
    "}"
   ]
  },
  {
   "cell_type": "markdown",
   "id": "575d15b1-00ab-4871-ac6c-835cdc9a8aae",
   "metadata": {},
   "source": [
    "Note that this will run for as long as the condition is false, as dictated by the iterator variable."
   ]
  },
  {
   "cell_type": "code",
   "execution_count": 48,
   "id": "fdf21fd7-0897-4553-8a21-4642d0ce2747",
   "metadata": {},
   "outputs": [
    {
     "name": "stdout",
     "output_type": "stream",
     "text": [
      "Pear located in the list\n"
     ]
    }
   ],
   "source": [
    "//Iterates through a list to check if the specified element is in the list\n",
    "\n",
    "const fruits = [\"Apple\", \"Pear\", \"Cherry\", \"Date\"]\n",
    "\n",
    "for(let i = 0; i < fruits.length; i++){\n",
    "    if(fruits[i] === \"Pear\"){\n",
    "        console.log(\"Pear located in the list\");\n",
    "    } \n",
    "}"
   ]
  },
  {
   "cell_type": "markdown",
   "id": "8ac6a96f-ced4-49b2-9cb8-cb587d10585c",
   "metadata": {},
   "source": [
    "Note that we can look at the length of the list using the .length() list method. This is an easy way of telling the computer you want the length of the list. We can also use it to see how many items are in the list. Lets look at another example below."
   ]
  },
  {
   "cell_type": "code",
   "execution_count": 53,
   "id": "8e3becbc-e4ae-4f37-8bfd-2037c1245d56",
   "metadata": {},
   "outputs": [
    {
     "name": "stdout",
     "output_type": "stream",
     "text": [
      "3\n"
     ]
    }
   ],
   "source": [
    "let students = [\"Nicole\", \"Kye\", \"Leila\"];\n",
    "console.log(students.length)"
   ]
  },
  {
   "cell_type": "code",
   "execution_count": 77,
   "id": "3b3bbc16-0a8e-46d0-be82-a857301d046e",
   "metadata": {},
   "outputs": [
    {
     "name": "stdout",
     "output_type": "stream",
     "text": [
      "Nicole is student number 1\n",
      "Kye is student number 2\n",
      "Leila is student number 3\n"
     ]
    }
   ],
   "source": [
    "//Looks through a list of students and lists what number each student is.\n",
    "let studentList = [\"Nicole\", \"Kye\", \"Leila\"];\n",
    "\n",
    "for(let i = 0; i < studentList.length; i++){\n",
    "    console.log(studentList[i] + \" is student number \" + (i + 1));\n",
    "}"
   ]
  },
  {
   "cell_type": "code",
   "execution_count": 78,
   "id": "99cc7424-3d68-4667-b58e-25d1721dabb1",
   "metadata": {},
   "outputs": [
    {
     "name": "stdout",
     "output_type": "stream",
     "text": [
      "Total Sum: 150\n"
     ]
    }
   ],
   "source": [
    "//Sums list items\n",
    "let numbers = [10, 20, 30, 40, 50];\n",
    "let sum = 0;\n",
    "for (let i = 0; i < numbers.length; i++) {\n",
    "    sum += numbers[i];\n",
    "}\n",
    "console.log(\"Total Sum:\", sum);"
   ]
  },
  {
   "cell_type": "markdown",
   "id": "4ce71dd0-47ca-4a19-96f8-55b0c51c5ab5",
   "metadata": {},
   "source": [
    "__do..while loops__"
   ]
  },
  {
   "cell_type": "markdown",
   "id": "22e6b743-c1d2-4523-8738-e31fe9dbc2df",
   "metadata": {},
   "source": [
    "Executes at least once, even if the condition is initially false."
   ]
  },
  {
   "cell_type": "code",
   "execution_count": 4,
   "id": "dabd26bf-05f0-4f4c-8062-d0668aedaad9",
   "metadata": {},
   "outputs": [
    {
     "name": "stdout",
     "output_type": "stream",
     "text": [
      "User Input: 0.6750512568020854\n"
     ]
    }
   ],
   "source": [
    "//Takes an input, then prints out the userInput, this continues until a number less than .5 is found. Note that the loop will iterate at LEAST once even if the number is below .5 because of the nature of do..while loops\n",
    "let userInput;\n",
    "do {\n",
    "    userInput = Math.random(); // Simulate user input with random number\n",
    "    console.log(\"User Input:\", userInput);\n",
    "} while (userInput < 0.5);\n"
   ]
  },
  {
   "cell_type": "code",
   "execution_count": 27,
   "id": "1c765cb8-9ef3-4764-9a70-36e1cd038a86",
   "metadata": {},
   "outputs": [
    {
     "name": "stdout",
     "output_type": "stream",
     "text": [
      "Generated Number: 47\n",
      "Generated Number: 42\n"
     ]
    }
   ],
   "source": [
    "//Generating a random number until its even. Checking for an even number with the modulo operator.\n",
    "let randomNumber;\n",
    "\n",
    "do {\n",
    "    randomNumber = Math.floor(Math.random() * 100); // Random number between 0 and 99\n",
    "    console.log(\"Generated Number:\", randomNumber);\n",
    "} while (randomNumber % 2 !== 0); // Continue if the number is odd\n"
   ]
  },
  {
   "cell_type": "markdown",
   "id": "dbeadc3c-2ac8-43d0-83de-b1401f79bcee",
   "metadata": {},
   "source": [
    "### Commmon Mistakes\n",
    "***"
   ]
  },
  {
   "cell_type": "markdown",
   "id": "17d062f9-95d2-4d7c-a0d0-be4da8f8f437",
   "metadata": {},
   "source": [
    "__Infinite Loops__"
   ]
  },
  {
   "cell_type": "markdown",
   "id": "a3d7e607-4118-4e10-b3b7-2018bef50357",
   "metadata": {},
   "source": [
    "- Occur when the loop's exit condition is never met.\n",
    "- Common in while and do...while loops if the condition for exiting the loop is not properly updated within the loop.\n"
   ]
  },
  {
   "cell_type": "markdown",
   "id": "8dfc2d2d-6b14-4952-94c4-eb65ad350fda",
   "metadata": {},
   "source": [
    "__Example:__"
   ]
  },
  {
   "cell_type": "code",
   "execution_count": 1,
   "id": "936eff5f-9dd2-43d1-b200-76eda093c4da",
   "metadata": {},
   "outputs": [],
   "source": [
    "let x = 2;\n",
    "\n",
    "while(x < 5){\n",
    "    console.log(\"I will print forever\");\n",
    "}"
   ]
  },
  {
   "cell_type": "markdown",
   "id": "bc79ad3e-eb06-43ed-822f-ffba1b96a3b1",
   "metadata": {},
   "source": [
    "__Off By One Errors__"
   ]
  },
  {
   "cell_type": "markdown",
   "id": "6db6410d-d938-40ca-b156-28baf6b6b825",
   "metadata": {},
   "source": [
    "- Incorrectly setting loop boundaries, causing one too many or too few iterations."
   ]
  },
  {
   "cell_type": "code",
   "execution_count": 36,
   "id": "ef1bf133-8af8-4f77-9d47-b9d8001e3359",
   "metadata": {},
   "outputs": [
    {
     "name": "stdout",
     "output_type": "stream",
     "text": [
      "1\n",
      "2\n",
      "3\n",
      "4\n",
      "5\n",
      "undefined\n"
     ]
    }
   ],
   "source": [
    "// Off-by-one error: iterates one extra time\n",
    "let array = [1, 2, 3, 4, 5];\n",
    "for (let i = 0; i <= array.length; i++) {\n",
    "    console.log(array[i]);\n",
    "}\n"
   ]
  },
  {
   "cell_type": "markdown",
   "id": "50a85468-8e15-4f62-87f2-c38d3f5293a8",
   "metadata": {},
   "source": [
    "__Unintended Scope of Variables__"
   ]
  },
  {
   "cell_type": "code",
   "execution_count": 37,
   "id": "c93ba9a3-5a5a-4cd3-94d1-e0c1e23b1689",
   "metadata": {},
   "outputs": [
    {
     "ename": "ReferenceError",
     "evalue": "i is not defined",
     "execution_count": 37,
     "output_type": "error",
     "traceback": [
      "evalmachine.<anonymous>:5",
      "console.log(i); // Error: 'i' is not defined, it doesnt exist outside the loop.",
      "            ^",
      "",
      "ReferenceError: i is not defined",
      "    at evalmachine.<anonymous>:5:13",
      "    at Script.runInThisContext (node:vm:122:12)",
      "    at Object.runInThisContext (node:vm:296:38)",
      "    at run ([eval]:1020:15)",
      "    at onRunRequest ([eval]:864:18)",
      "    at onMessage ([eval]:828:13)",
      "    at process.emit (node:events:514:28)",
      "    at emit (node:internal/child_process:951:14)",
      "    at process.processTicksAndRejections (node:internal/process/task_queues:83:21)"
     ]
    }
   ],
   "source": [
    "// Variable 'i' should be accessible outside the loop\n",
    "for (let i = 0; i < 5; i++) {\n",
    "    // Loop logic\n",
    "}\n",
    "console.log(i); // Error: 'i' is not defined, it doesnt exist outside the loop.\n"
   ]
  },
  {
   "cell_type": "markdown",
   "id": "d46610b2-6343-4dcf-a66e-7ab31b15a15c",
   "metadata": {},
   "source": [
    "__Misunderstanding Loop Conditions__"
   ]
  },
  {
   "cell_type": "markdown",
   "id": "4d521d55-ac8f-4c50-8071-26a68d3850e8",
   "metadata": {},
   "source": [
    "This happens when you confuse assignment and comparison operators."
   ]
  },
  {
   "cell_type": "code",
   "execution_count": null,
   "id": "9939f660-9c52-4d54-8858-17b24a31c109",
   "metadata": {},
   "outputs": [],
   "source": [
    "let i = 0;\n",
    "while (i = 5) { // Mistakenly using assignment '=' instead of '=='\n",
    "    // Loop logic\n",
    "}\n"
   ]
  },
  {
   "cell_type": "markdown",
   "id": "2bf8abc7-4606-497a-8d7a-b4f178dbeaab",
   "metadata": {},
   "source": [
    "### Best Practices\n",
    "***"
   ]
  },
  {
   "cell_type": "markdown",
   "id": "c16af9dd-b587-4615-a877-1b99c10fbba1",
   "metadata": {},
   "source": [
    "__Clearly Define Loop Conditions:__\n",
    "- Ensure loop conditions are explicit to avoid infinite loops.\n",
    "- Regularly update the condition within the loop as needed."
   ]
  },
  {
   "cell_type": "markdown",
   "id": "ba4901e6-fe5e-454f-92b8-e8a7216d16d4",
   "metadata": {},
   "source": [
    "__Use the Most Appropriate Loop Type:__\n",
    "\n",
    "- Choose for loops for known iteration counts.\r",
    "- \n",
    "Opt for while loops when the number of iterations is not predetermined\n",
    "- \r\n",
    "Use do...while loops when the loop body must execute at least once."
   ]
  },
  {
   "cell_type": "markdown",
   "id": "0503d4a5-54ce-49e7-963b-0ab78f251bda",
   "metadata": {},
   "source": [
    "__Properly Initialize Loop Variables:__\n",
    "- Declare and initialize all loop control variables clearly\n",
    "- Consider the scope of these variables, especially in for loops.."
   ]
  },
  {
   "cell_type": "markdown",
   "id": "94988aa2-1ddf-4cd0-9513-1aea2a5ec289",
   "metadata": {},
   "source": [
    "__Keep Loop Bodies Simple and Clear:__\n",
    "- Avoid overcomplicating the code inside loops.\n",
    "- Strive for readability and maintainability."
   ]
  },
  {
   "cell_type": "markdown",
   "id": "000b47f3-a4e8-45e5-a69b-004666aa39c3",
   "metadata": {},
   "source": [
    "__Avoid 'Magic Numbers':__\n",
    "- Use named constants or variables instead of hard-coded numbers in loop conditions.\n",
    "- This enhances the readability and adaptability of the code."
   ]
  },
  {
   "cell_type": "markdown",
   "id": "800b8bfe-2140-4680-960c-50dc8a959dc6",
   "metadata": {},
   "source": [
    "__Comment and Document Complex Loops:__\n",
    "- Provide clear comments for complex loop logic to aid understanding and future maintenance.\n",
    "- Describe the purpose and functionality of the loop."
   ]
  },
  {
   "cell_type": "markdown",
   "id": "5030da99-fea5-4d51-aae5-a2b276392085",
   "metadata": {},
   "source": [
    "__Test Loops with Edge Cases:__\n",
    "- Ensure loops are tested with a variety of inputs, including boundary values and edge cases.\n",
    "- This helps to confirm the loop behaves as expected in all scenarios."
   ]
  },
  {
   "cell_type": "markdown",
   "id": "7955ecb2-7e92-4317-bb33-72a69da48f31",
   "metadata": {},
   "source": [
    "__Refactor and Optimize When Necessary:__\n",
    "- Revisit and refactor loop logic for efficiency and clarity.\n",
    "- Consider alternative approaches if a loop seems overly complex or inefficient."
   ]
  },
  {
   "cell_type": "code",
   "execution_count": null,
   "id": "c2408889-acd5-478a-aff8-6a823bba33a2",
   "metadata": {},
   "outputs": [],
   "source": []
  }
 ],
 "metadata": {
  "kernelspec": {
   "display_name": "JavaScript (Node.js)",
   "language": "javascript",
   "name": "javascript"
  },
  "language_info": {
   "file_extension": ".js",
   "mimetype": "application/javascript",
   "name": "javascript",
   "version": "20.8.1"
  }
 },
 "nbformat": 4,
 "nbformat_minor": 5
}
