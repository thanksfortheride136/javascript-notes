{
 "cells": [
  {
   "cell_type": "markdown",
   "id": "0bd0306b-10f5-4412-9d4f-43f891d52cc6",
   "metadata": {},
   "source": [
    "# Formatting in Jupyter Labs\n",
    "***"
   ]
  },
  {
   "cell_type": "markdown",
   "id": "3ee75ea2-0676-4cc4-91f0-4dd49d177ab3",
   "metadata": {},
   "source": [
    "Jupyter Lab provides a variety of ways to format your text to make it more readable and organized. Here are some basics:\n"
   ]
  },
  {
   "cell_type": "markdown",
   "id": "f53e3460-5fc8-4650-9026-b415bc8e9f2e",
   "metadata": {},
   "source": [
    "# Changing the Cell Type\n",
    "***"
   ]
  },
  {
   "cell_type": "markdown",
   "id": "00483cb2-6a85-4c16-8364-f6741f2370d2",
   "metadata": {},
   "source": [
    "To change a cell to Markdown for adding notes, select the cell and then change its type from \"Code\" to \"Markdown\" in the toolbar.\n"
   ]
  },
  {
   "cell_type": "markdown",
   "id": "b92ad4c5-b34c-45e1-ae0c-c9c9105d8994",
   "metadata": {},
   "source": [
    "# Headings\n",
    "***"
   ]
  },
  {
   "cell_type": "markdown",
   "id": "b9125e0f-deea-4831-92ca-bed39467cb08",
   "metadata": {},
   "source": [
    "\n",
    "You can create headings using the `#` symbol. More `#` symbols correspond to smaller headings.\n",
    "\n",
    "```markdown\n",
    "# This is a Heading 1\n",
    "## This is a Heading 2\n",
    "### This is a Heading 3\n",
    "#### This is a Heading 4"
   ]
  },
  {
   "cell_type": "markdown",
   "id": "fd26dc3a-4d07-4af5-8d02-aeb6a89e71f7",
   "metadata": {},
   "source": [
    "# Horizontal Lines\n",
    "***"
   ]
  },
  {
   "cell_type": "markdown",
   "id": "67904a1c-1a2e-4549-a9d2-d63cb7c7e3f4",
   "metadata": {},
   "source": [
    "You can create a horizontal line by using three dashes ---\n",
    "\n",
    "If you want to put a horizontal line directly under a heading or piece of text you simply use three asteriks ***\n"
   ]
  },
  {
   "cell_type": "markdown",
   "id": "8985c8d7-f30c-4c3f-8bbf-a620bbc9ee9d",
   "metadata": {},
   "source": [
    "# Creating Links\n",
    "***"
   ]
  },
  {
   "cell_type": "markdown",
   "id": "4a83720a-d67c-4748-ae3c-fadfea2f93c0",
   "metadata": {},
   "source": [
    "Links can be created with the [text](URL) syntax. Paste the URL in the quotes."
   ]
  },
  {
   "cell_type": "markdown",
   "id": "ef80c531-5e1b-415d-8892-9b41628ff9d8",
   "metadata": {},
   "source": [
    "# Italic Text\n",
    "***"
   ]
  },
  {
   "cell_type": "markdown",
   "id": "d6cc94bf-8eae-4c6d-bd4b-8f16305c3085",
   "metadata": {},
   "source": [
    "You can make text italic using a single asterisk * or underscore _ on both sides of the text."
   ]
  },
  {
   "cell_type": "markdown",
   "id": "cf36864d-210b-4edd-b3f1-b58add1005d6",
   "metadata": {},
   "source": [
    "# Bold Text \n",
    "***"
   ]
  },
  {
   "cell_type": "markdown",
   "id": "daf761a8-f96b-4d9b-9d0b-21cad7d06cbd",
   "metadata": {},
   "source": [
    "You can make text bold using two underscores __ on both sides of the text."
   ]
  },
  {
   "cell_type": "markdown",
   "id": "f9b801f1-24a4-43dd-840f-ea77412575a4",
   "metadata": {},
   "source": [
    "# Ordered List\n",
    "***"
   ]
  },
  {
   "cell_type": "markdown",
   "id": "3929046c-8a9e-4560-87c8-c9c1470b7159",
   "metadata": {},
   "source": [
    "You can create an ordered (numbered) list using numbers followed by a dot."
   ]
  },
  {
   "cell_type": "markdown",
   "id": "19475113-6904-4b9d-910b-2306393a5730",
   "metadata": {},
   "source": [
    "# Code Snippets\n",
    "***\n"
   ]
  },
  {
   "cell_type": "markdown",
   "id": "4f5094a8-9c7f-47a1-bbdc-17ff76ddfcff",
   "metadata": {},
   "source": [
    "You can put small bits of code in your formatted text cells by using 2 back ticks to surround your code. Backticks are located on the button above the tab key on your keyboard, below the escape key.\n",
    "    ` `"
   ]
  },
  {
   "cell_type": "markdown",
   "id": "f3b5c539-2fd9-472d-967f-90161a350660",
   "metadata": {},
   "source": [
    "# Images\n",
    "***"
   ]
  },
  {
   "cell_type": "markdown",
   "id": "3bf5c90a-d146-49c4-94d6-32f412504c52",
   "metadata": {},
   "source": [
    "```\n",
    "You can embed images using the ![Alt text](URL) syntax."
   ]
  },
  {
   "cell_type": "markdown",
   "id": "684acd0f-a687-449c-8e71-3af123e5d443",
   "metadata": {},
   "source": [
    "# Keyboard Shortcuts\n",
    "***"
   ]
  },
  {
   "cell_type": "markdown",
   "id": "54c01773-61ce-43a6-ba32-bcf82b02bc80",
   "metadata": {},
   "source": [
    "__Shift + Enter:__ Run the current cell and select below. <br>\n",
    "__Ctrl + Enter:__ Run the selected cells.<br>\n",
    "__Esc then M:__ Change the cell to Markdown.<br>\n",
    "__Esc then Y:__ Change the cell to Code."
   ]
  },
  {
   "cell_type": "code",
   "execution_count": null,
   "id": "aad46521-416c-47b9-ae46-6cdfd12ab5fc",
   "metadata": {},
   "outputs": [],
   "source": []
  }
 ],
 "metadata": {
  "kernelspec": {
   "display_name": "JavaScript (Node.js)",
   "language": "javascript",
   "name": "javascript"
  },
  "language_info": {
   "file_extension": ".js",
   "mimetype": "application/javascript",
   "name": "javascript",
   "version": "20.8.1"
  }
 },
 "nbformat": 4,
 "nbformat_minor": 5
}
