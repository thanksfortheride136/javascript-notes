{
 "cells": [
  {
   "cell_type": "markdown",
   "id": "5cb24b5b-6b24-463b-ba39-52c4cf747144",
   "metadata": {},
   "source": [
    "# Conditional Statements In Javascript"
   ]
  },
  {
   "cell_type": "markdown",
   "id": "61431983-43c6-4273-bd00-45ed951d16f0",
   "metadata": {},
   "source": [
    "Documentation located [here.](https://developer.mozilla.org/en-US/docs/Learn/JavaScript/Building_blocks/conditionals)"
   ]
  },
  {
   "cell_type": "markdown",
   "id": "83895077-ce0b-4b68-af75-8a40ad46aa89",
   "metadata": {},
   "source": [
    "__Conditional Statements:__ Conditional statements, also known as control flow statements, allow a program to make decisions and execute different blocks of code based on whether a certain condition is true or false. These conditions are evaluated to _boolean values_, which are either true or false. . These conditions are usually expressions that compare values using comparison operators (e.g.,= ==, !=, <, >, <=, >=). The result of such expressions is a boolean value, indicating the truth or falsity of the condition. This, in turn, determines which block of code will be executeds."
   ]
  },
  {
   "cell_type": "markdown",
   "id": "05c82f63-db41-45eb-95e4-3ca906a862cf",
   "metadata": {},
   "source": [
    "# Truthy Vs. Falsy Values\n",
    "***"
   ]
  },
  {
   "cell_type": "markdown",
   "id": "1b06e903-b2f7-407a-9fa3-2b2746832eec",
   "metadata": {},
   "source": [
    "In JavaScript, values are not only categorized as true or false but also as \"truthy\" or \"falsy\". This distinction is important when evaluating conditions in conditional statements."
   ]
  },
  {
   "cell_type": "markdown",
   "id": "56869d62-fcb7-4025-8906-9ab8f57fbe1f",
   "metadata": {},
   "source": [
    "__Falsy Values:__\n",
    "\n",
    "__false:__ The keyword false.<br>\n",
    "__0:__ The number zero.<br>\n",
    "__\"\"__ (Empty String): A string with no characters.<br>\n",
    "__null:__ Represents no value or no object.<br>\n",
    "__undefined:__ Indicates that a variable has not been assigned a value.<br>\n",
    "__NaN:__ Stands for \"Not-a-Number\"."
   ]
  },
  {
   "cell_type": "markdown",
   "id": "e7c96bc2-7084-4ffb-a9c9-85f1524335f5",
   "metadata": {
    "scrolled": true
   },
   "source": [
    "<font color = \"blue\">Example:</font>"
   ]
  },
  {
   "cell_type": "code",
   "execution_count": 12,
   "id": "3dd29877-9ece-4570-8c1d-194e01751f86",
   "metadata": {},
   "outputs": [
    {
     "name": "stdout",
     "output_type": "stream",
     "text": [
      "0 is falsy\n"
     ]
    }
   ],
   "source": [
    "if (0) {\n",
    "    console.log(\"This won't print, 0 is falsy\");\n",
    "} else {\n",
    "    console.log(\"0 is falsy\");\n",
    "}\n",
    "\n",
    "if (null) {\n",
    "    console.log(\"This won't print, null is falsy\");\n",
    "}\n"
   ]
  },
  {
   "cell_type": "markdown",
   "id": "a4c2ed13-fa43-4e69-a5cc-cadaf095539f",
   "metadata": {},
   "source": [
    "__Truthy Values:__\n",
    "\n",
    "Any value that is not falsy is considered truthy. This includes true, all numbers (other than 0), all strings (including those with whitespace), and all objects and arrays (even empty ones)."
   ]
  },
  {
   "cell_type": "code",
   "execution_count": 13,
   "id": "2563ced0-83df-495c-819e-c5d233f22f9e",
   "metadata": {},
   "outputs": [
    {
     "name": "stdout",
     "output_type": "stream",
     "text": [
      "42 is truthy\n",
      "Non-empty string is truthy\n",
      "Whitespace-only string is also truthy\n",
      "An empty array is truthy\n",
      "An empty object is truthy\n"
     ]
    }
   ],
   "source": [
    "if (42) {\n",
    "    console.log(\"42 is truthy\");\n",
    "}\n",
    "\n",
    "if (\"Hello\") {\n",
    "    console.log(\"Non-empty string is truthy\");\n",
    "}\n",
    "\n",
    "if (\" \") {\n",
    "    console.log(\"Whitespace-only string is also truthy\");\n",
    "}\n",
    "\n",
    "if ([]) {\n",
    "    console.log(\"An empty array is truthy\");\n",
    "}\n",
    "\n",
    "if ({}) {\n",
    "    console.log(\"An empty object is truthy\");\n",
    "}\n"
   ]
  },
  {
   "cell_type": "markdown",
   "id": "053da2cf-c4e1-4239-a916-cadfe3e15c58",
   "metadata": {},
   "source": [
    "# If..Else Statements\n",
    "***"
   ]
  },
  {
   "cell_type": "markdown",
   "id": "da2e71e6-743d-4262-a3f0-272eef93e097",
   "metadata": {},
   "source": [
    "An if..else statement will execute a statement if the specified condition is truthy. This is the most basic conditional statment, it gives your program a bit more flexibility and decision making. The steps to making a if statement are below:"
   ]
  },
  {
   "cell_type": "markdown",
   "id": "5629232d-88fb-4aa8-9fe3-0b166849c949",
   "metadata": {},
   "source": [
    "1. keyword `if` followed by paranthesis.\n",
    "2. A conditiona to test in paranthesis, usually using comparison operators.\n",
    "3. A set of curly braces, inside is the code that runs if true.\n",
    "4. The `else` keyword.\n",
    "5. Another set of curly braces, inside is the code that runs if false."
   ]
  },
  {
   "cell_type": "markdown",
   "id": "3cc989d1-9d65-42b7-ad09-c07b616e1bcc",
   "metadata": {},
   "source": [
    "__Note:__ The else is optional. You can create just a basic if statement without an else if needed."
   ]
  },
  {
   "cell_type": "markdown",
   "id": "b994067b-ec96-4b5e-aec0-1b7641006ab9",
   "metadata": {},
   "source": [
    "<font color=\"blue\">Syntax:"
   ]
  },
  {
   "cell_type": "code",
   "execution_count": 15,
   "id": "3d24eb14-9dac-4ca1-9581-8a5648c8081f",
   "metadata": {},
   "outputs": [],
   "source": [
    "if ('condition') {\n",
    "    //Code here runs if the condition is true.\n",
    "} \n",
    "\n",
    "//Code out here is OUTSIDE the if statement block of code. The if statement doenst control this."
   ]
  },
  {
   "cell_type": "markdown",
   "id": "f4e9b308-218b-4b12-b460-48dfe48252ad",
   "metadata": {},
   "source": [
    "<font color=\"blue\">Example:</font>"
   ]
  },
  {
   "cell_type": "code",
   "execution_count": 2,
   "id": "8a2c8735-1ce1-4433-a627-2695bb50a565",
   "metadata": {},
   "outputs": [
    {
     "name": "stdout",
     "output_type": "stream",
     "text": [
      "We are the same age\n"
     ]
    }
   ],
   "source": [
    "let myAge = 2;\n",
    "let yourAge = 2;\n",
    "\n",
    "if (myAge == yourAge){\n",
    "    console.log(\"We are the same age\");\n",
    "}"
   ]
  },
  {
   "cell_type": "markdown",
   "id": "f33f0db0-f9c5-4e65-a474-aea7abd81a4e",
   "metadata": {},
   "source": [
    "<font color=\"blue\">Syntax:</font>"
   ]
  },
  {
   "cell_type": "code",
   "execution_count": 2,
   "id": "3c96106a-867a-4f77-a8cb-73ae21956832",
   "metadata": {},
   "outputs": [],
   "source": [
    "if ('condition') {\n",
    "    //Code here runs if the condition is true.\n",
    "} else {\n",
    "    //If the condition is false, run different code here\n",
    "}"
   ]
  },
  {
   "cell_type": "markdown",
   "id": "9f522c17-bea0-48aa-aecd-35b2eecbad2b",
   "metadata": {},
   "source": [
    "<font color=\"blue\">Example:</font>"
   ]
  },
  {
   "cell_type": "code",
   "execution_count": 1,
   "id": "20139e0a-1838-4266-9ddd-2771b18d5d26",
   "metadata": {},
   "outputs": [
    {
     "name": "stdout",
     "output_type": "stream",
     "text": [
      "You have more peaches than apples.\n"
     ]
    }
   ],
   "source": [
    "let numOfApples = 10;\n",
    "let numOfPeaches = 12;\n",
    "\n",
    "if (numOfApples > numOfPeaches) {\n",
    "    console.log (\"You have more apples than peaches.\");\n",
    "} else {\n",
    "    console.log (\"You have more peaches than apples.\");\n",
    "}"
   ]
  },
  {
   "cell_type": "code",
   "execution_count": 2,
   "id": "99e54230-a51d-4181-9fba-78fd481f9281",
   "metadata": {
    "scrolled": true
   },
   "outputs": [
    {
     "data": {
      "text/plain": [
       "5"
      ]
     },
     "execution_count": 2,
     "metadata": {},
     "output_type": "execute_result"
    }
   ],
   "source": [
    "let shoppingDone = false;\n",
    "let childsAllowance;\n",
    "\n",
    "if (shoppingDone === true) {\n",
    "  childsAllowance = 10;\n",
    "} else {\n",
    "  childsAllowance = 5;\n",
    "}"
   ]
  },
  {
   "cell_type": "markdown",
   "id": "ebf6fecc-27ef-400e-80f5-35b2c8234235",
   "metadata": {},
   "source": [
    "# Else If\n",
    "***"
   ]
  },
  {
   "cell_type": "markdown",
   "id": "6e0947ed-fb78-46e0-958c-7c8d50aa6889",
   "metadata": {},
   "source": [
    "The last example provided us with two choices, or outcomes — but what if we want more than two?\n",
    "\n",
    "There is a way to chain on extra choices/outcomes to your `if...else` — using `else if`. Each extra choice requires an additional block to put in between `if () { }` and `else { }`.\n",
    "\n",
    "You can have as many different options in a conditional statement using `else if`."
   ]
  },
  {
   "cell_type": "markdown",
   "id": "65fc59bb-55de-4960-a5ad-7f10ce8a9408",
   "metadata": {},
   "source": [
    "<font color=\"blue\">Syntax:"
   ]
  },
  {
   "cell_type": "code",
   "execution_count": 5,
   "id": "1496b2cf-ac9b-4d4c-a693-987147bff399",
   "metadata": {},
   "outputs": [],
   "source": [
    "if ('checks condition 1') {\n",
    "    //Code here runs if the condition is true.\n",
    "} else if ('checks condition 2') {\n",
    "    //Code here runs if the condition1 is false and condition 2 is true.\n",
    "} else if ('checks condition 3'){\n",
    "    //Code here runs if the conditional is false and conditional 3 is true.\n",
    "} else{\n",
    "    //Code here runs if all conditionals above are false.\n",
    "}"
   ]
  },
  {
   "cell_type": "markdown",
   "id": "2cad601a-d12b-49b7-b5b4-bd6ccec32158",
   "metadata": {},
   "source": [
    "<font color=\"blue\">Example:</font>"
   ]
  },
  {
   "cell_type": "code",
   "execution_count": 6,
   "id": "678996bc-554e-489e-bc15-1740f6b6b41f",
   "metadata": {},
   "outputs": [
    {
     "name": "stdout",
     "output_type": "stream",
     "text": [
      "Tom is not the same age as anyone\n"
     ]
    }
   ],
   "source": [
    "let tomsAge = 10;\n",
    "let sarahsAge = 12;\n",
    "let arisAge = 15;\n",
    "\n",
    "if (tomsAge == sarahsAge){\n",
    "    console.log(\"Tom and Sarah are the same age\");\n",
    "} else if (tomsAge == arisAge){\n",
    "    console.log(\"Tom and Ari are the same age\");\n",
    "} else{\n",
    "    console.log(\"Tom is not the same age as anyone\");\n",
    "}"
   ]
  },
  {
   "cell_type": "markdown",
   "id": "bcc67710-6330-4469-a33c-bca2ccf59f79",
   "metadata": {},
   "source": [
    "# Combining Logical Operators with Conditionals\n",
    "***"
   ]
  },
  {
   "cell_type": "markdown",
   "id": "3b31235c-b7ac-4e7c-b8a8-5a4604e873bd",
   "metadata": {},
   "source": [
    "__Logical Operators:__ Used to make decisions.<br>\n",
    "<font color = \"blue\">Example</font>\n",
    "<br>&& (and)<br>|| (or)<br>! (Not)"
   ]
  },
  {
   "cell_type": "markdown",
   "id": "08f93b59-3d7b-48e5-89de-cfc24315029c",
   "metadata": {},
   "source": [
    "We can combine logical operators with our conditional statements to make smarter programs."
   ]
  },
  {
   "cell_type": "markdown",
   "id": "50dc7982-6ed8-40aa-ace5-d48bdb39e046",
   "metadata": {},
   "source": [
    "<font color=\"blue\">Example:</font>"
   ]
  },
  {
   "cell_type": "code",
   "execution_count": 1,
   "id": "f82119d7-c29c-4093-a944-da492acd1569",
   "metadata": {},
   "outputs": [
    {
     "ename": "ReferenceError",
     "evalue": "tomsAge is not defined",
     "execution_count": 1,
     "output_type": "error",
     "traceback": [
      "evalmachine.<anonymous>:5",
      "if (tomsAge > 10 && sarahsAge > 10 && arisAge > 10) {",
      "^",
      "",
      "ReferenceError: tomsAge is not defined",
      "    at evalmachine.<anonymous>:5:1",
      "    at Script.runInThisContext (node:vm:122:12)",
      "    at Object.runInThisContext (node:vm:296:38)",
      "    at run ([eval]:1020:15)",
      "    at onRunRequest ([eval]:864:18)",
      "    at onMessage ([eval]:828:13)",
      "    at process.emit (node:events:514:28)",
      "    at emit (node:internal/child_process:951:14)",
      "    at process.processTicksAndRejections (node:internal/process/task_queues:83:21)"
     ]
    }
   ],
   "source": [
    "let tomAge = 10;\n",
    "let sarahAge = 12;\n",
    "let ariAge = 15;\n",
    "\n",
    "if (tomsAge > 10 && sarahsAge > 10 && arisAge > 10) {\n",
    "    console.log(\"All of them are older than 10\");\n",
    "} else if (tomsAge > 10 || sarahsAge > 10 || arisAge > 10) {\n",
    "    console.log(\"At least one of them is older than 10\");\n",
    "} else {\n",
    "    console.log(\"None of them are older than 10\");\n",
    "}\n"
   ]
  },
  {
   "cell_type": "code",
   "execution_count": null,
   "id": "910d42ad-b4fb-4880-8f64-ee858eef2cc2",
   "metadata": {},
   "outputs": [],
   "source": []
  }
 ],
 "metadata": {
  "kernelspec": {
   "display_name": "JavaScript (Node.js)",
   "language": "javascript",
   "name": "javascript"
  },
  "language_info": {
   "file_extension": ".js",
   "mimetype": "application/javascript",
   "name": "javascript",
   "version": "20.8.1"
  }
 },
 "nbformat": 4,
 "nbformat_minor": 5
}
