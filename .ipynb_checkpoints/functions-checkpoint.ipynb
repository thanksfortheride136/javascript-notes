{
 "cells": [
  {
   "cell_type": "markdown",
   "id": "5cb24b5b-6b24-463b-ba39-52c4cf747144",
   "metadata": {},
   "source": [
    "# Functions In Javascript\n",
    "***"
   ]
  },
  {
   "cell_type": "markdown",
   "id": "61431983-43c6-4273-bd00-45ed951d16f0",
   "metadata": {},
   "source": [
    "Documentation located [here.](https://www.w3schools.com/js/js_functions.asp)"
   ]
  },
  {
   "cell_type": "markdown",
   "id": "83895077-ce0b-4b68-af75-8a40ad46aa89",
   "metadata": {},
   "source": [
    "__Functions:__ Functions are one of the fundamental building blocks in JavaScript. A function in JavaScript is similar to a procedure—a set of statements that performs a task or calculates a value, but for a procedure to qualify as a function, it should take some input and return an output. Functions are repeatable lines of code that make our programs neater and easier to read and run."
   ]
  },
  {
   "cell_type": "markdown",
   "id": "05c82f63-db41-45eb-95e4-3ca906a862cf",
   "metadata": {},
   "source": [
    "# Defining Functions\n",
    "***"
   ]
  },
  {
   "cell_type": "markdown",
   "id": "1b06e903-b2f7-407a-9fa3-2b2746832eec",
   "metadata": {},
   "source": [
    "In JavaScript, in order to create a function there is a syntax that we use. There are multiple ways to create functions in Javascript, we will talk about 2 different ways below."
   ]
  },
  {
   "cell_type": "markdown",
   "id": "56869d62-fcb7-4025-8906-9ab8f57fbe1f",
   "metadata": {},
   "source": [
    "__Function Declarations:__\n",
    "\n",
    "A function definition (also called a function declaration, or function statement) consists of the `function` keyword, followed by:\r\n",
    "1. The name of the function.<br>\n",
    "2. .\r\n",
    "A list of parameters to the function, enclosed in parentheses and separated commas.<br>\n",
    "3. The savaScript statements that define the function, enclosed in curly braces, { /* … */ }."
   ]
  },
  {
   "cell_type": "markdown",
   "id": "e7c96bc2-7084-4ffb-a9c9-85f1524335f5",
   "metadata": {
    "scrolled": true
   },
   "source": [
    "<font color = \"blue\">Example:</font>"
   ]
  },
  {
   "cell_type": "code",
   "execution_count": 6,
   "id": "3dd29877-9ece-4570-8c1d-194e01751f86",
   "metadata": {},
   "outputs": [],
   "source": [
    "function square(number){\n",
    "    return number * number;\n",
    "}\n"
   ]
  },
  {
   "cell_type": "markdown",
   "id": "a4c2ed13-fa43-4e69-a5cc-cadaf095539f",
   "metadata": {},
   "source": [
    "In the example above the function called `square` takes a single parameter, which is the word enclosed in parenthesis. The function then utilizes the `return` keyword to pass the result of the parameter out of the function."
   ]
  },
  {
   "cell_type": "markdown",
   "id": "c77a592a-9639-42e4-8f81-d4a4992fc0c6",
   "metadata": {},
   "source": [
    "__Parameter:__ A parameter in programming is a named variable used only in a function or method <font color = \"red\">definition</font>. It acts like a variable, a placeholder that recieves and holds the values <font color = \"red\">passed</font> to the function when its <font color = \"red\">called</font>.\n",
    "\n",
    "__Return:__ A return statement in a function is an optional statement that exists the function and returns a value to the program, outside of the block of the function. Any code following the return statement is _not_ executed. If a function doesnt have a return statement, or if no return value is specified, the function returns as _undefined_."
   ]
  },
  {
   "cell_type": "code",
   "execution_count": 7,
   "id": "47f31ac0-9fc4-4728-9b54-faeead646918",
   "metadata": {},
   "outputs": [
    {
     "ename": "SyntaxError",
     "evalue": "Unexpected number",
     "execution_count": 7,
     "output_type": "error",
     "traceback": [
      "evalmachine.<anonymous>:3",
      "is 8",
      "   ^",
      "",
      "SyntaxError: Unexpected number",
      "    at new Script (node:vm:93:7)",
      "    at createScript (node:vm:248:10)",
      "    at Object.runInThisContext (node:vm:296:10)",
      "    at run ([eval]:1020:15)",
      "    at onRunRequest ([eval]:864:18)",
      "    at onMessage ([eval]:828:13)",
      "    at process.emit (node:events:514:28)",
      "    at emit (node:internal/child_process:951:14)",
      "    at process.processTicksAndRejections (node:internal/process/task_queues:83:21)"
     ]
    }
   ],
   "source": [
    "function sum(a, b) {\r\n",
    "    return a + b;\r\n",
    "is 8"
   ]
  },
  {
   "cell_type": "markdown",
   "id": "4f679752-4a56-44ff-8cbb-0956ae4a6674",
   "metadata": {},
   "source": [
    "In the function above we are utilizing 2 parameters and simply adding 2 numbers., A and B. We are then returning the value out of the function. However please note that functions need to have more than a definition which is seen above. We now need to _call_ the function, in order to utilize it.is 8"
   ]
  },
  {
   "cell_type": "markdown",
   "id": "053da2cf-c4e1-4239-a916-cadfe3e15c58",
   "metadata": {},
   "source": [
    "# Calling a Function\n",
    "***"
   ]
  },
  {
   "cell_type": "markdown",
   "id": "da2e71e6-743d-4262-a3f0-272eef93e097",
   "metadata": {},
   "source": [
    "__Function Call:__ A function call is when you _call_ or use the function you have created. Note that when you create a function it does not need to be used right away in a procedural order. You can create it and use it whenever you need, as many times as needed. Before calling the function you must define it in the steps above. The syntax for calling a function is below, we are using the function definition from the sum function we created above. Note that we are using something called <font color = \"red\">arguments</font> in a function call."
   ]
  },
  {
   "cell_type": "markdown",
   "id": "b994067b-ec96-4b5e-aec0-1b7641006ab9",
   "metadata": {},
   "source": [
    "__Argument:__ An argument is the value we input in the function call that is passed through the function via parameters. In other words the value of arguments are inptu and become the value of parameters in the function definition, much like how you assign a variable a value. __The position of arguments matter, the arguments fill in the parameters in the ordere in which they are written.__"
   ]
  },
  {
   "cell_type": "markdown",
   "id": "5f07a9f0-e747-478b-a379-f8123915cb2a",
   "metadata": {},
   "source": [
    "<font color=\"blue\">Syntax:</font>"
   ]
  },
  {
   "cell_type": "markdown",
   "id": "5629232d-88fb-4aa8-9fe3-0b166849c949",
   "metadata": {},
   "source": [
    "function_name (arguments);"
   ]
  },
  {
   "cell_type": "markdown",
   "id": "0802a8ec-4b3c-453f-81f2-35a7140df791",
   "metadata": {},
   "source": [
    "<font color=\"blue\">Example:</font>"
   ]
  },
  {
   "cell_type": "code",
   "execution_count": 5,
   "id": "3d24eb14-9dac-4ca1-9581-8a5648c8081f",
   "metadata": {},
   "outputs": [
    {
     "ename": "ReferenceError",
     "evalue": "sum is not defined",
     "execution_count": 5,
     "output_type": "error",
     "traceback": [
      "evalmachine.<anonymous>:1",
      "sum(3, 5);",
      "^",
      "",
      "ReferenceError: sum is not defined",
      "    at evalmachine.<anonymous>:1:1",
      "    at Script.runInThisContext (node:vm:122:12)",
      "    at Object.runInThisContext (node:vm:296:38)",
      "    at run ([eval]:1020:15)",
      "    at onRunRequest ([eval]:864:18)",
      "    at onMessage ([eval]:828:13)",
      "    at process.emit (node:events:514:28)",
      "    at emit (node:internal/child_process:951:14)",
      "    at process.processTicksAndRejections (node:internal/process/task_queues:83:21)"
     ]
    }
   ],
   "source": [
    "sum(3, 5);"
   ]
  },
  {
   "cell_type": "markdown",
   "id": "f4e9b308-218b-4b12-b460-48dfe48252ad",
   "metadata": {},
   "source": [
    "Here is how we can _call_ the square function we defined before in our notes."
   ]
  },
  {
   "cell_type": "markdown",
   "id": "2b138433-9e27-4441-b804-bbac0f6455d5",
   "metadata": {},
   "source": [
    "<font color=\"blue\">Example:</font>"
   ]
  },
  {
   "cell_type": "code",
   "execution_count": 9,
   "id": "8a2c8735-1ce1-4433-a627-2695bb50a565",
   "metadata": {},
   "outputs": [
    {
     "data": {
      "text/plain": [
       "25"
      ]
     },
     "execution_count": 9,
     "metadata": {},
     "output_type": "execute_result"
    }
   ],
   "source": [
    "square(5);"
   ]
  },
  {
   "cell_type": "markdown",
   "id": "f33f0db0-f9c5-4e65-a474-aea7abd81a4e",
   "metadata": {},
   "source": [
    "<font color=\"blue\">Syntax:</font>"
   ]
  },
  {
   "cell_type": "markdown",
   "id": "c7a4b643-b3eb-40bd-8605-2c3e1f3133c5",
   "metadata": {},
   "source": [
    "# Function Definitions and Calls\n",
    "***"
   ]
  },
  {
   "cell_type": "markdown",
   "id": "ffaafe5b-ed0d-4b00-ba03-56eec77d9b20",
   "metadata": {},
   "source": [
    "We always utilize function definitions, calls, parameters, return and arguments together. Parameters, return statements and arguments are always optional. Below are some example are simple functions with their definitions and calls. __Note that Jupyter Lab will print these functions by default. You must create print statements / variables to actually see results of your functions in regular JS.__"
   ]
  },
  {
   "cell_type": "markdown",
   "id": "f98e4be6-cefc-40c7-96ee-ec9f7cde7e69",
   "metadata": {},
   "source": [
    "<font color=\"blue\">Examples:</font>"
   ]
  },
  {
   "cell_type": "code",
   "execution_count": null,
   "id": "20139e0a-1838-4266-9ddd-2771b18d5d26",
   "metadata": {},
   "outputs": [],
   "source": [
    "function greet(name) {\n",
    "    console.log(\"Hello there \" + name);\n",
    "}\n",
    "\n",
    "greet(\"Cooper\");\n",
    "\n"
   ]
  },
  {
   "cell_type": "code",
   "execution_count": null,
   "id": "99e54230-a51d-4181-9fba-78fd481f9281",
   "metadata": {
    "scrolled": true
   },
   "outputs": [],
   "source": [
    "function ageFinder(dateOfBirth, currentYear) {\n",
    "    let age = currentYear - dateOfBirth;\n",
    "    return age;\n",
    "}\n",
    "\n",
    "console.log(ageFinder(1990, 2023));"
   ]
  },
  {
   "cell_type": "markdown",
   "id": "ebf6fecc-27ef-400e-80f5-35b2c8234235",
   "metadata": {},
   "source": [
    "# Returning vs. console.Log() in Functions\n",
    "***"
   ]
  },
  {
   "cell_type": "markdown",
   "id": "6e0947ed-fb78-46e0-958c-7c8d50aa6889",
   "metadata": {},
   "source": [
    "Often when starting out we will only need to display the value of the result of the function. We can do this by simply logging the value to the console. However this is often not sufficient for programs. A printed value can only be used in the block, the problem will pop up when trying to use function values elsewhere. Lets take a look at this using a function below."
   ]
  },
  {
   "cell_type": "markdown",
   "id": "65fc59bb-55de-4960-a5ad-7f10ce8a9408",
   "metadata": {},
   "source": [
    "<font color=\"blue\">Example:</font>\n"
   ]
  },
  {
   "cell_type": "code",
   "execution_count": 7,
   "id": "1496b2cf-ac9b-4d4c-a693-987147bff399",
   "metadata": {},
   "outputs": [
    {
     "name": "stdout",
     "output_type": "stream",
     "text": [
      "10\n",
      "NaN\n"
     ]
    }
   ],
   "source": [
    "function printTen() {\n",
    "    console.log(10);\n",
    "}\n",
    "\n",
    "let  value = printTen();\n",
    "\n",
    "console.log(value * 2);\n"
   ]
  },
  {
   "cell_type": "markdown",
   "id": "e6487151-f408-4fc4-9dd8-3b2d71e0540c",
   "metadata": {},
   "source": [
    "When we try to use the value from the function we will recieve an error, this is because the value is printed and not `returned`. If I wanted to use the value from the function elsewhere, then we run into problems. The way we can fix this is by returning values."
   ]
  },
  {
   "cell_type": "markdown",
   "id": "69e5db1e-08d9-47ed-9881-86fc6cb9f437",
   "metadata": {},
   "source": [
    "<font color=\"blue\">Example:</font>\n"
   ]
  },
  {
   "cell_type": "code",
   "execution_count": 6,
   "id": "70be7b69-578c-42da-8b8a-186fbdb60635",
   "metadata": {},
   "outputs": [
    {
     "name": "stdout",
     "output_type": "stream",
     "text": [
      "20\n"
     ]
    }
   ],
   "source": [
    "function returnTen() {\n",
    "    return 10;\n",
    "}\n",
    "\n",
    "returnTen();\n",
    "\n",
    "let returnedValue = returnTen();\n",
    "\n",
    "console.log(returnedValue * 2);"
   ]
  },
  {
   "cell_type": "markdown",
   "id": "bcc67710-6330-4469-a33c-bca2ccf59f79",
   "metadata": {},
   "source": [
    "# Arrow Functions (A cleaner way of writing functions)\n",
    "***"
   ]
  },
  {
   "cell_type": "markdown",
   "id": "3b31235c-b7ac-4e7c-b8a8-5a4604e873bd",
   "metadata": {},
   "source": [
    "An arrow function is a more concise and cleaner way to write functions."
   ]
  },
  {
   "cell_type": "markdown",
   "id": "50dc7982-6ed8-40aa-ace5-d48bdb39e046",
   "metadata": {},
   "source": [
    "<font color=\"blue\">Example:</font>"
   ]
  },
  {
   "cell_type": "code",
   "execution_count": 10,
   "id": "f82119d7-c29c-4093-a944-da492acd1569",
   "metadata": {},
   "outputs": [],
   "source": [
    "const square = (number) => {\n",
    "    return number * number;\n",
    "}"
   ]
  },
  {
   "cell_type": "markdown",
   "id": "40d90ef0-9d0b-4217-9d7d-69b9a11de155",
   "metadata": {},
   "source": [
    "1. The name of the function is preceded by a variable keyword (let or const), then choose a name.\n",
    "2. The parameters are listed in the parenthesis, if no parameters are needed you must include the parethesis still.\n",
    "3. Use an arrow => and open curly braces.\n",
    "4. Input code to execute in the block."
   ]
  },
  {
   "cell_type": "code",
   "execution_count": null,
   "id": "3b4ed784-d356-4e52-9442-ccea723a7c27",
   "metadata": {},
   "outputs": [],
   "source": []
  }
 ],
 "metadata": {
  "kernelspec": {
   "display_name": "JavaScript (Node.js)",
   "language": "javascript",
   "name": "javascript"
  },
  "language_info": {
   "file_extension": ".js",
   "mimetype": "application/javascript",
   "name": "javascript",
   "version": "20.8.1"
  }
 },
 "nbformat": 4,
 "nbformat_minor": 5
}
