{
 "cells": [
  {
   "cell_type": "markdown",
   "id": "4d14dc17-a339-4706-8c32-aa18f3600f76",
   "metadata": {},
   "source": [
    "# JavaScript Lists(Arrays)\n",
    "***\n"
   ]
  },
  {
   "cell_type": "markdown",
   "id": "a7ca6c95-cd22-4f8f-8289-01adb14a2ca9",
   "metadata": {},
   "source": [
    "Documentation located [here.](https://developer.mozilla.org/en-US/docs/Web/JavaScript/Reference/Global_Objects/Array)"
   ]
  },
  {
   "cell_type": "markdown",
   "id": "668be9e4-60ee-46d7-a909-ac82c937275d",
   "metadata": {},
   "source": [
    "__JavaScript Lists:__ Commonly referred to as Arrays, are a way to store multiple values in a single variable. Arrays are incredibly useful for managing and manipulating sets of data."
   ]
  },
  {
   "cell_type": "markdown",
   "id": "b28c009b-ae21-4af1-9e67-90ea99f8eb95",
   "metadata": {},
   "source": [
    "# Creating and Initializing Arrays\n",
    "***\n"
   ]
  },
  {
   "cell_type": "markdown",
   "id": "67f9222e-f09b-4d2d-a127-cdd43176efd9",
   "metadata": {},
   "source": [
    "An array can hold a collection of items, which can be of various data types such as strings, numbers, booleans, and even other arrays or objects."
   ]
  },
  {
   "cell_type": "markdown",
   "id": "e8be1a46-a598-4221-a03a-8239e4667c43",
   "metadata": {},
   "source": [
    "__Syntax__"
   ]
  },
  {
   "cell_type": "markdown",
   "id": "4e633919-be0a-4b19-9b9f-586e87319df9",
   "metadata": {},
   "source": [
    "To create an array, you use square brackets []. You can initialize an array with items or start with an empty array."
   ]
  },
  {
   "cell_type": "code",
   "execution_count": 5,
   "id": "e9c520eb-68d4-49cf-9de7-72fd82d0b2b0",
   "metadata": {},
   "outputs": [],
   "source": [
    "// Initializing an empty array\n",
    "let fruits = [];\n",
    "\n",
    "// Initializing an array with items\n",
    "let colors = [\"red\", \"green\", \"blue\"];"
   ]
  },
  {
   "cell_type": "markdown",
   "id": "02b55aba-27f7-46e9-9c11-c6ef1aab8bd9",
   "metadata": {},
   "source": [
    "# Accessing Array Elements\n",
    "***\n"
   ]
  },
  {
   "cell_type": "markdown",
   "id": "c5f3285e-c47a-4b8c-8921-2eb227588a4d",
   "metadata": {},
   "source": [
    "Each item in an array has an index, starting from 0. You can access an element by using its index inside square brackets."
   ]
  },
  {
   "cell_type": "markdown",
   "id": "6c31a25a-acdf-4de5-9720-f8eaf0773fc7",
   "metadata": {},
   "source": [
    "# <font color=\"red\">IMPORTANT NOTE: THE AP CSP EXAM STARTS INDEXES AT 1 NOT 0, CONTRARY TO MANY PROGRAMMING LANGAUGES.</font>"
   ]
  },
  {
   "cell_type": "code",
   "execution_count": 6,
   "id": "f088cc15-8837-40dc-a2a5-b41bc4eee5ba",
   "metadata": {},
   "outputs": [
    {
     "name": "stdout",
     "output_type": "stream",
     "text": [
      "red\n"
     ]
    }
   ],
   "source": [
    "let firstColor = colors[0]; // Accessing the first item, \"red\"\n",
    "console.log(firstColor); // Output: \"red\"\n"
   ]
  },
  {
   "cell_type": "markdown",
   "id": "e6ebae25-3610-46e2-a1ba-bb5772a6de14",
   "metadata": {},
   "source": [
    "# Modifying Arrays\n",
    "***"
   ]
  },
  {
   "cell_type": "markdown",
   "id": "db0aec01-f35a-4fd8-bddd-c8c6b9757ca5",
   "metadata": {},
   "source": [
    "Arrays are mutable, meaning you can modify them after creation.\r\n",
    "\r\n"
   ]
  },
  {
   "cell_type": "code",
   "execution_count": 7,
   "id": "d6081cc8-1b0a-4b3d-b17b-0073e295f881",
   "metadata": {},
   "outputs": [
    {
     "data": {
      "text/plain": [
       "4"
      ]
     },
     "execution_count": 7,
     "metadata": {},
     "output_type": "execute_result"
    }
   ],
   "source": [
    "// Changing an element\n",
    "colors[1] = \"yellow\"; // Changing \"green\" to \"yellow\"\n",
    "\n",
    "// Adding a new element\n",
    "colors.push(\"purple\"); // Adding \"purple\" to the end\n"
   ]
  },
  {
   "cell_type": "markdown",
   "id": "1df86b46-f29c-4cb9-a5f0-2b74109b197a",
   "metadata": {},
   "source": [
    "# Array Properties and Methods\n",
    "***\n",
    "\r\n"
   ]
  },
  {
   "cell_type": "markdown",
   "id": "f3cbee95-dc33-4eae-bc9c-0bc962ceb6a3",
   "metadata": {},
   "source": [
    "Arrays come with various properties and methods for manipulation and inspection. We will mostly need the length property and a variety of methods listed below.\r\n",
    "\r\n"
   ]
  },
  {
   "cell_type": "markdown",
   "id": "3a0f039b-f5fc-47db-a5b4-5b42b4ee9e41",
   "metadata": {},
   "source": [
    "__Length Property__"
   ]
  },
  {
   "cell_type": "markdown",
   "id": "843acf68-a1e3-41fb-8572-df20b7f01c1a",
   "metadata": {},
   "source": [
    "The length property outputs the number of items in the array."
   ]
  },
  {
   "cell_type": "code",
   "execution_count": 8,
   "id": "eea8c08c-c31f-4c65-a565-db76c2f9fcc7",
   "metadata": {},
   "outputs": [
    {
     "name": "stdout",
     "output_type": "stream",
     "text": [
      "4\n"
     ]
    }
   ],
   "source": [
    "console.log(colors.length); // Output: the number of elements in colors array\n"
   ]
  },
  {
   "cell_type": "markdown",
   "id": "c8d6348c-013f-41e6-8539-c8ed054433df",
   "metadata": {},
   "source": [
    "__Commmon Array Methods__"
   ]
  },
  {
   "cell_type": "code",
   "execution_count": null,
   "id": "bfb59340-7ff9-491f-b916-437a637b7e50",
   "metadata": {},
   "outputs": [],
   "source": [
    "// Adding an element to the end of the array\n",
    "array.push(element);\n",
    "\n",
    "// Removing the last element of the array\n",
    "array.pop();\n",
    "\n",
    "// Adding an element to the beginning of the array\n",
    "array.unshift(element);\n",
    "\n",
    "// Removing the first element of the array\n",
    "array.shift();\n",
    "\n",
    "// Finding the index of an element in the array\n",
    "let index = array.indexOf(element);\n",
    "\n",
    "// Removing elements from an array (starting index, number of elements to remove)\n",
    "array.splice(startIndex, deleteCount);\n",
    "\n",
    "// Adding elements to an array (starting index, number of elements to delete, elements to add)\n",
    "array.splice(startIndex, deleteCount, newElement1, newElement2, ...);\n",
    "\n",
    "// Creating a shallow copy of a part of an array (start index, end index)\n",
    "let newArray = array.slice(startIndex, endIndex);\n",
    "\n",
    "// Joining all elements of an array into a string (separator)\n",
    "let str = array.join(separator);\n",
    "\n",
    "// Reversing the elements in the array\n",
    "array.reverse();\n",
    "\n",
    "// Sorting the elements in the array\n",
    "array.sort();\n",
    "\n",
    "// Iterating over each element in the array\n",
    "array.forEach(function(element, index) {\n",
    "    // Code to execute for each element\n",
    "});\n",
    "\n",
    "// Transforming elements in the array and creating a new array\n",
    "let newArray = array.map(function(element, index) {\n",
    "    // Return new value for the element\n",
    "});\n",
    "\n",
    "// Filtering elements in the array based on a condition\n",
    "let filteredArray = array.filter(function(element, index) {\n",
    "    // Return true to keep the element, false to filter it out\n",
    "});\n",
    "\n",
    "// Checking if any element in the array passes a test\n",
    "let result = array.some(function(element, index) {\n",
    "    // Return true or false based on condition\n",
    "});\n",
    "\n",
    "// Checking if all elements in the array pass a test\n",
    "let allPass = array.every(function(element, index) {\n",
    "    // Return true or false based on condition\n",
    "});\n",
    "\n",
    "// Reducing the array to a single value\n",
    "let result = array.reduce(function(accumulator, element, index) {\n",
    "    // Return updated accumulator\n",
    "}, initialValue);\n",
    "\n",
    "// Finding the first element in the array that satisfies a condition\n",
    "let foundElement = array.find(function(element, index) {\n",
    "    // Return true if this is the element you are looking for\n",
    "});\n",
    "\n",
    "// Finding the index of the first element in the array that satisfies a condition\n",
    "let foundIndex = array.findIndex(function(element, index) {\n",
    "    // Return true if this is the element you are looking for\n",
    "});\n",
    "\n",
    "// Concatenating multiple arrays\n",
    "let newArray = array1.concat(array2, array3, ...);\n"
   ]
  },
  {
   "cell_type": "markdown",
   "id": "1893811a-011a-4e15-a44f-86a2b273d7bb",
   "metadata": {},
   "source": [
    "# Looping Through Arrays\n",
    "***\n"
   ]
  },
  {
   "cell_type": "markdown",
   "id": "66ff3dcc-e446-49e2-9db1-3f4c2f3656ba",
   "metadata": {},
   "source": [
    "To iterate over an array, you can use loops like `for`, `forEach`, `for...of`.\r\n",
    "\r\n"
   ]
  },
  {
   "cell_type": "code",
   "execution_count": null,
   "id": "37b786d6-3086-464b-a86b-9b717edb5326",
   "metadata": {},
   "outputs": [],
   "source": [
    "// Using forEach\n",
    "colors.forEach(function(color) {\n",
    "    console.log(color);\n",
    "});\n",
    "\n",
    "// Using for...of\n",
    "for (let color of colors) {\n",
    "    console.log(color);\n",
    "}\n"
   ]
  },
  {
   "cell_type": "markdown",
   "id": "68fdcc15-4c0e-40b2-9363-8ddde4b60b2c",
   "metadata": {},
   "source": [
    "# Multidimensional Arrays\n",
    "***\n"
   ]
  },
  {
   "cell_type": "markdown",
   "id": "05ac729c-acc5-45d3-aca6-bcb25f818853",
   "metadata": {},
   "source": [
    "Arrays can contain other arrays, creating a multidimensional array.\r\n",
    "\r\n"
   ]
  },
  {
   "cell_type": "code",
   "execution_count": null,
   "id": "a637bde7-aa69-407d-82ef-a94b12198aeb",
   "metadata": {},
   "outputs": [],
   "source": [
    "let matrix = [\n",
    "  [1, 2, 3],\n",
    "  [4, 5, 6],\n",
    "  [7, 8, 9]\n",
    "];\n",
    "\n",
    "console.log(matrix[1][2]); // Accessing the third element of the second array\n"
   ]
  },
  {
   "cell_type": "markdown",
   "id": "6ccca823-8279-4d5a-99ba-b79088c356ef",
   "metadata": {},
   "source": [
    "# Use Cases\n",
    "***\n"
   ]
  },
  {
   "cell_type": "markdown",
   "id": "a148a27c-bdc1-41d4-8624-c56aec8346f5",
   "metadata": {},
   "source": [
    "__Data Collection and Management:__ Arrays are ideal for collecting and managing sets of data, such as user inputs, records from a database, or any set of values. They provide a structured way to store and access this data.\n",
    "\n",
    "__Data Manipulation:__ You can perform various operations on arrays like sorting, filtering, and mapping to manipulate data. For instance, sorting user data based on criteria, filtering a list of products based on categories, or transforming data into a new format for presentation.\n",
    "\n",
    "__Mathematical Computations:__ Arrays can store numerical data and are useful in mathematical computations. You can use them for statistical analysis, such as calculating averages, sums, or other complex mathematical operations.\n",
    "\n",
    "__UI Components:__ In web development, arrays are often used to manage lists of UI elements. For example, displaying a list of items in a dropdown menu, a table of data, or a carousel of images.\n",
    "\n",
    "__Stacks and Queues Implementation:__ Arrays can be used to implement other data structures like stacks and queues. For example, using push and pop methods for stack operations, and shift and push for queue operations.\n",
    "\n",
    "__Graphs and Trees Data Structure:__ Arrays can represent more complex data structures like graphs (as adjacency lists or matrices) and trees (like binary trees, where each element has references to its children).\n",
    "\n",
    "__Algorithms Implementation:__ Arrays are fundamental in implementing various algorithms, especially those involving sorting and searching. They are often the underlying data structure used to store data during these operations.\n",
    "\n",
    "__Combining and Splitting Data:__ Using methods like concat, slice, and splice, arrays can be easily combined, partitioned, or reordered, which is useful in many applications like data processing or handling user-generated content.\n",
    "\n",
    "__Temporary Storage:__ Arrays are useful as a temporary storage mechanism when processing or manipulating data. For example, storing the results of intermediate steps in a complex calculation or algorithm.\n",
    "\n",
    "__Multi-Dimensional Data:__ Arrays can store multi-dimensional data, making them useful for scenarios like representing matrices in mathematical computations, pixel data in images, or multi-dimensional maps in games or simulations.\n",
    "\n",
    "__Functional Programming:__ Arrays in JavaScript work well with functional programming concepts, using methods like map, filter, reduce, which allow for operations on arrays without mutating them.\n",
    "\n",
    "__Batch Operations:__ Performing operations on multiple items at once, like updating a set of records or applying a function across multiple elements."
   ]
  },
  {
   "cell_type": "code",
   "execution_count": null,
   "id": "e7ed0104-3e19-482c-b05d-4ace087c87e9",
   "metadata": {},
   "outputs": [],
   "source": []
  }
 ],
 "metadata": {
  "kernelspec": {
   "display_name": "JavaScript (Node.js)",
   "language": "javascript",
   "name": "javascript"
  },
  "language_info": {
   "file_extension": ".js",
   "mimetype": "application/javascript",
   "name": "javascript",
   "version": "20.8.1"
  }
 },
 "nbformat": 4,
 "nbformat_minor": 5
}
