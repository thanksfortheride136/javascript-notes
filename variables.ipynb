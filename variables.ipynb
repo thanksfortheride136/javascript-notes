{
 "cells": [
  {
   "cell_type": "markdown",
   "id": "d55fec9f-61c9-4c0d-ae67-c1ef47815955",
   "metadata": {},
   "source": [
    "# Variables in Javascript"
   ]
  },
  {
   "cell_type": "markdown",
   "id": "3e0744da-852c-4e86-b240-f9c48688413d",
   "metadata": {},
   "source": [
    "Documentation located [here](https://www.w3schools.com/js/js_variables.asp)."
   ]
  },
  {
   "cell_type": "markdown",
   "id": "0065a426-cd85-4dae-a5c3-58e800b81565",
   "metadata": {},
   "source": [
    "__Variables:__ A container for storing values. A variable has a name and contains a value. You \"Store\" a variable in memory and it allows you to access, modify, and manipulate that value throughout your program. Variables allow us to write programs in a generic manner, allow us to modify data without needing to modify the code structure."
   ]
  },
  {
   "cell_type": "markdown",
   "id": "8d369106-760f-45bd-98fe-f3a12f6504e6",
   "metadata": {},
   "source": [
    "You can store many different data types in variables: Strings, Ints, booleans, floats, doubles and more"
   ]
  },
  {
   "cell_type": "markdown",
   "id": "2c0ae7c5-423d-4d4a-bcb1-c9ab6ac3350e",
   "metadata": {},
   "source": [
    "# Variable Declaration & Initialization\n",
    "***"
   ]
  },
  {
   "cell_type": "markdown",
   "id": "874116d0-3b52-4105-9edc-6b16b9acb5a9",
   "metadata": {},
   "source": [
    "Variables can be declared & initialize at the same time or seperately, in order to utilize the variable, both must happen."
   ]
  },
  {
   "cell_type": "markdown",
   "id": "9361fd82-9230-4879-89b1-1af3ca945ee3",
   "metadata": {},
   "source": [
    "__Variable Declaration__: This is the first step to creating a variable, it tells your program that we want to create a variable, in this step the variable has no value. Must declare with var, let or CONST keywords. Var is outdated, we do not use it, you will see it in legacy code as well as in code.org.\n",
    "<br>\n",
    "<font color='blue'>_Example:_ </font><br>let age;<br>var name;<br>CONST birthday;"
   ]
  },
  {
   "cell_type": "markdown",
   "id": "336568ab-a55e-4f41-ac83-b36f23b616af",
   "metadata": {},
   "source": [
    "__Variable Initialization:__ This is where you give a variable a value for the first time. Variables must be declared before initializing.<br>\n",
    "<font color='blue'>_Example:_ </font><br>age = 25;<br>name = \"Cooper\";<br> birthday = 2000;"
   ]
  },
  {
   "cell_type": "markdown",
   "id": "4b7b1ef4-b4de-4e36-82f0-ab619d7a1713",
   "metadata": {},
   "source": [
    "__Variable Definition__: Variables can be declared and initialized at the same time. We call this <font color='red'>\"Variable Definition\".</font><br>\n",
    "<font color='blue'>_Example:_ </font><br>\n",
    "let age = 20;<br>\n",
    "var name = \"Cooper\";<br>\n",
    "CONST birthday = 2002;<br>\n",
    "\n",
    "The equals sign is known as the <font color=\"red\">assignment operator</font> in most programming langauges. You must use this to create variables."
   ]
  },
  {
   "cell_type": "markdown",
   "id": "c75b554f-b4e2-49e5-ba29-75fbb83cf9af",
   "metadata": {},
   "source": [
    "# Naming Variables\n",
    "***"
   ]
  },
  {
   "cell_type": "markdown",
   "id": "9422f451-c8af-4b23-93fb-3bfaf73af8ed",
   "metadata": {},
   "source": [
    "Variable names are extremely important, naming conventions vary between languages, here are some tips:\n",
    "\n",
    "1. Use descriptive names, that match the purpose of the variable.\n",
    "2. Use CamelCase when writing multi-word variables (Javascript best practice)\n",
    "3. Avoid symbols, and \"reserved\" words, such as: let, for, if etc.\n",
    "<br><font color = \"red\">Never put spaces in variables, a variable can never just be an integer</font>"
   ]
  },
  {
   "cell_type": "markdown",
   "id": "5c6623a2-aefd-49c8-a9c7-40e26201fdeb",
   "metadata": {},
   "source": [
    "<font color=\"blue\">_Good Examples:_</font><br>\n",
    "let firstName = \"Thomas\";<br>\n",
    "let numberOfLives = 9;<br>\n",
    "CONST temp = 98;<br>\n",
    "let messageOfTheDay = \"Hello there, welcome to CSP\";<br>\n",
    "<font color=\"blue\">_Bad Examples:_</font><br>\n",
    "let 2 = 9;<br>\n",
    "let N!M@ = \"John\";<br>\n",
    "let birthday month = \"December\";\n"
   ]
  },
  {
   "cell_type": "markdown",
   "id": "00b22e57-fcb9-4f9c-a4ea-40ffcf9d83e7",
   "metadata": {},
   "source": [
    "# Using the console.log( ); method with Variables\n",
    "***"
   ]
  },
  {
   "cell_type": "markdown",
   "id": "28a0a9eb-e37f-4b67-ba42-8da60b23d704",
   "metadata": {},
   "source": [
    "We can combine our previous knowlege of the console log method with variables to start to build actual programs."
   ]
  },
  {
   "cell_type": "markdown",
   "id": "d266fdae-4ac8-4824-b5a5-55a86dcfb931",
   "metadata": {},
   "source": [
    "Lets start by defining a variable:"
   ]
  },
  {
   "cell_type": "code",
   "execution_count": 1,
   "id": "b94d4fbd-f8db-4315-97cc-f2026c8ca60c",
   "metadata": {},
   "outputs": [],
   "source": [
    "let parentsAge = 36;"
   ]
  },
  {
   "cell_type": "markdown",
   "id": "0eb6827d-64f2-4376-805b-ff2a1cd038a1",
   "metadata": {},
   "source": [
    "Now lets print the age variable to the console. __NOTE:__ In Jupyter we get the outut below our cell. If you want to see how this looks in a coding environment you can try this in VSCode."
   ]
  },
  {
   "cell_type": "code",
   "execution_count": 2,
   "id": "3742b5d3-19c4-4241-b7a5-ea93fc81d7fc",
   "metadata": {},
   "outputs": [
    {
     "name": "stdout",
     "output_type": "stream",
     "text": [
      "36\n"
     ]
    }
   ],
   "source": [
    "console.log(parentsAge);"
   ]
  },
  {
   "cell_type": "markdown",
   "id": "a4fa2bf8-eaaa-4eb6-b1e0-8015a68dfcc6",
   "metadata": {},
   "source": [
    "See above, when you run the cell (Shift + Enter) the output is not the variable name, but the information stored inside the variable. Below are more examples:"
   ]
  },
  {
   "cell_type": "code",
   "execution_count": 3,
   "id": "aff1ae3c-f5ea-4e35-9b3f-553854635daf",
   "metadata": {},
   "outputs": [],
   "source": [
    "let birthdayCakeFlavor = \"chocolate\";"
   ]
  },
  {
   "cell_type": "code",
   "execution_count": 4,
   "id": "29234049-a4cc-4ed8-8691-7fdf21f85d18",
   "metadata": {},
   "outputs": [
    {
     "name": "stdout",
     "output_type": "stream",
     "text": [
      "chocolate\n"
     ]
    }
   ],
   "source": [
    "console.log(birthdayCakeFlavor);"
   ]
  },
  {
   "cell_type": "markdown",
   "id": "75db97f0-fe4b-499c-8825-828800c344dd",
   "metadata": {},
   "source": [
    "# Operators\n",
    "***"
   ]
  },
  {
   "cell_type": "markdown",
   "id": "afcf5dfd-a6a7-4206-aa4a-b74528de3239",
   "metadata": {},
   "source": [
    "Operators are crucial for writing programming langauge. Operators are special symbols or keywords that can perform operations. Below are the most common types:"
   ]
  },
  {
   "cell_type": "markdown",
   "id": "306d9a50-24d9-400d-bd79-7505c6dbf3f6",
   "metadata": {},
   "source": [
    "__Arithmetic Operators:__ Used to perform basic math.<br>\n",
    "<font color = \"blue\">Example</font>\n",
    "<br>+ (Add)<br>- (subtract)<br>* (Multiply)<br>/ (Divide)<br>% (Modulo)"
   ]
  },
  {
   "cell_type": "markdown",
   "id": "801d9a9d-053b-4510-975a-d76a39f74b86",
   "metadata": {},
   "source": [
    "__Comparison Operators:__ Used to compare values.<br>\n",
    "<font color = \"blue\">Example</font>\n",
    "<br>=== (equal)<br>!= (Not Equal)<br>< (Less Than)<br>> (Greater Than)<br><= (less than or equal)<br>>= (Greater than or equal)"
   ]
  },
  {
   "cell_type": "markdown",
   "id": "2f72085b-3eac-42b1-843b-e0521f4675e0",
   "metadata": {},
   "source": [
    "__Logical Operators:__ Used to make decisions.<br>\n",
    "<font color = \"blue\">Example</font>\n",
    "<br>&& (and)<br>|| (or)<br>! (Not)"
   ]
  },
  {
   "cell_type": "markdown",
   "id": "7a907a9c-f165-49aa-beee-bb50bce8663a",
   "metadata": {},
   "source": [
    "__Assignment Operators:__ Used in variables to assign value.<br>\n",
    "<font color = \"blue\">Example</font>\n",
    "<br>= (Assign)<br>+= (Add and assign)<br>-= (Subtract and assign)"
   ]
  },
  {
   "cell_type": "markdown",
   "id": "5f9e110c-432b-4d87-843e-79b97349a344",
   "metadata": {},
   "source": [
    "__String Operators:__ Used to concetenate (combine) two strings.<br>\n",
    "<font color = \"blue\">Example</font>\n",
    "<br>+ (Concatenate)"
   ]
  },
  {
   "cell_type": "markdown",
   "id": "09f262db-9c97-40f3-b175-31224aedbbab",
   "metadata": {},
   "source": [
    "# Using Operators\n",
    "***"
   ]
  },
  {
   "cell_type": "markdown",
   "id": "27a20bb0-f0d8-4ba0-bf08-688264a09c26",
   "metadata": {},
   "source": [
    "Operators are simple to use within variables. They can be used outside of variables as well, but lets start by using them inside variables. We will use the same process as above, we will define a variable and then print to the console. However we will now utilize operpators to make more complex variables. "
   ]
  },
  {
   "cell_type": "code",
   "execution_count": 13,
   "id": "3979403a-4c13-4484-9a1e-5ac19097e832",
   "metadata": {},
   "outputs": [],
   "source": [
    "let areaOfRectangle = 4 * 5;"
   ]
  },
  {
   "cell_type": "code",
   "execution_count": 14,
   "id": "8d93b6ab-dda0-4422-ad96-d36c93f4c1ed",
   "metadata": {},
   "outputs": [
    {
     "name": "stdout",
     "output_type": "stream",
     "text": [
      "20\n"
     ]
    }
   ],
   "source": [
    "console.log(areaOfRectangle);"
   ]
  },
  {
   "cell_type": "markdown",
   "id": "7b1db892-8f51-4732-8d76-946c19073ebe",
   "metadata": {},
   "source": [
    "We can use the concatenation (and the '+' operator) to make better print statements in the console. Note the space between the colon and the last quotation mark:"
   ]
  },
  {
   "cell_type": "code",
   "execution_count": 7,
   "id": "b3d842b6-180d-4bd0-98c6-53dc87d408ad",
   "metadata": {},
   "outputs": [],
   "source": [
    "let areaOfSquare = 7 * 7;"
   ]
  },
  {
   "cell_type": "code",
   "execution_count": 8,
   "id": "36c15bc1-7f9f-41a8-8c2c-af47525976bd",
   "metadata": {},
   "outputs": [
    {
     "name": "stdout",
     "output_type": "stream",
     "text": [
      "The area of a 7 inch square is: 49\n"
     ]
    }
   ],
   "source": [
    "console.log('The area of a 7 inch square is: ' + areaOfSquare);"
   ]
  },
  {
   "cell_type": "markdown",
   "id": "94040839-ec3a-4662-bbd8-a221a8a94eed",
   "metadata": {},
   "source": [
    "You can concatenate words too, however lets examine what happens:"
   ]
  },
  {
   "cell_type": "code",
   "execution_count": 9,
   "id": "8088a3c0-7114-4e84-b142-6c159984fc47",
   "metadata": {},
   "outputs": [],
   "source": [
    "let firstName = \"John\";\n",
    "let lastName = \"Doe\";"
   ]
  },
  {
   "cell_type": "code",
   "execution_count": 10,
   "id": "b809d8ec-3a70-4c5e-8b45-d982e639dc64",
   "metadata": {},
   "outputs": [
    {
     "name": "stdout",
     "output_type": "stream",
     "text": [
      "His name is JohnDoe\n"
     ]
    }
   ],
   "source": [
    "console.log(\"His name is \" + firstName + lastName);"
   ]
  },
  {
   "cell_type": "markdown",
   "id": "fa3e7dad-e22c-462a-ab46-139ca3981472",
   "metadata": {},
   "source": [
    "We are missing a space between first name and last name. We can fix this by adding a blank space, using an empty set of quotes, make sure you put a space between the quotes:"
   ]
  },
  {
   "cell_type": "code",
   "execution_count": 11,
   "id": "2395f6e7-cf2e-49fa-b0ec-aa82183834f5",
   "metadata": {},
   "outputs": [
    {
     "name": "stdout",
     "output_type": "stream",
     "text": [
      "His name is John Doe\n"
     ]
    }
   ],
   "source": [
    "console.log(\"His name is \" + firstName + \" \" + lastName);"
   ]
  },
  {
   "cell_type": "markdown",
   "id": "ab73a886-7563-4059-882b-00f2f3e2c404",
   "metadata": {},
   "source": [
    "We can also use operators on variables. For instance we will use the equality operator to see if the 2 variables below are equal. It will return true or false:"
   ]
  },
  {
   "cell_type": "code",
   "execution_count": 12,
   "id": "635de0ab-ec0e-4d0a-802b-b6c635102485",
   "metadata": {},
   "outputs": [],
   "source": [
    "let trainTicketValue = 5;\n",
    "let trainNumber = 4;"
   ]
  },
  {
   "cell_type": "code",
   "execution_count": 13,
   "id": "73df4592-f114-441a-a585-d10bf1ed8c95",
   "metadata": {},
   "outputs": [
    {
     "name": "stdout",
     "output_type": "stream",
     "text": [
      "false\n"
     ]
    }
   ],
   "source": [
    "console.log(trainTicketValue == trainNumber);"
   ]
  },
  {
   "cell_type": "markdown",
   "id": "0749848e-cdb1-4dff-b241-d0bccd4443b0",
   "metadata": {},
   "source": [
    "# Changing Variable Assignments\n",
    "***"
   ]
  },
  {
   "cell_type": "markdown",
   "id": "62892f55-fd86-440e-a6a0-289f94ca5fcd",
   "metadata": {},
   "source": [
    "Variables defined with let and var can be changed. CONST variables cannot be changed. In the example below we set the variable to a value, then change it. Notice the output takes the last value. IT does not mean that the variable was not the initial value, you just are printing the last value because the program is executing in a procedural step by step manner. Notice that when we mutate the variable we dont use the declaration keyword again. __NOTE:__ In Jupyter, mutating (changing) a variable name will print it out. This is __NOT__ the case in other IDE's, you will only see output when logging to the console."
   ]
  },
  {
   "cell_type": "code",
   "execution_count": 14,
   "id": "6ed09c64-61a0-4237-a183-2b61bdaf7d08",
   "metadata": {},
   "outputs": [
    {
     "data": {
      "text/plain": [
       "10"
      ]
     },
     "execution_count": 14,
     "metadata": {},
     "output_type": "execute_result"
    }
   ],
   "source": [
    "let numOfCows = 10;\n",
    "numOfCows = 5;\n",
    "numOfCows = 10;"
   ]
  },
  {
   "cell_type": "code",
   "execution_count": 15,
   "id": "eddd5b41-7612-4f86-9644-e2a27b001309",
   "metadata": {},
   "outputs": [
    {
     "name": "stdout",
     "output_type": "stream",
     "text": [
      "10\n"
     ]
    }
   ],
   "source": [
    "console.log(numOfCows);"
   ]
  },
  {
   "cell_type": "code",
   "execution_count": 16,
   "id": "c1d16bd6-df7b-4dc5-825e-28eb39a22f50",
   "metadata": {},
   "outputs": [
    {
     "data": {
      "text/plain": [
       "'Im a crow'"
      ]
     },
     "execution_count": 16,
     "metadata": {},
     "output_type": "execute_result"
    }
   ],
   "source": [
    "let murderOfCrows = 5 + 5;\n",
    "murderOfCrows = 1000000 * 7;\n",
    "murderOfCrows = \"Im a crow\";"
   ]
  },
  {
   "cell_type": "code",
   "execution_count": 17,
   "id": "da3d1e28-98df-4920-876a-67e819d3ea13",
   "metadata": {},
   "outputs": [
    {
     "name": "stdout",
     "output_type": "stream",
     "text": [
      "Im a crow\n"
     ]
    }
   ],
   "source": [
    "console.log(murderOfCrows);"
   ]
  }
 ],
 "metadata": {
  "kernelspec": {
   "display_name": "JavaScript (Node.js)",
   "language": "javascript",
   "name": "javascript"
  },
  "language_info": {
   "file_extension": ".js",
   "mimetype": "application/javascript",
   "name": "javascript",
   "version": "20.8.1"
  }
 },
 "nbformat": 4,
 "nbformat_minor": 5
}
